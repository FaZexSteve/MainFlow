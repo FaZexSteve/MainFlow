{
 "cells": [
  {
   "cell_type": "code",
   "execution_count": 64,
   "id": "01ba047a-c2f4-463d-a76c-4d434e3aa152",
   "metadata": {},
   "outputs": [],
   "source": [
    "# creating a list\n",
    "my_list = [1, 2, 3, 4, 5, 6]"
   ]
  },
  {
   "cell_type": "code",
   "execution_count": 65,
   "id": "f30c0370-e94b-4e35-8d45-5a73fada588b",
   "metadata": {},
   "outputs": [
    {
     "name": "stdout",
     "output_type": "stream",
     "text": [
      "Initial list: [1, 2, 3, 4, 5, 6]\n",
      "List after appending an element 7: [1, 2, 3, 4, 5, 6, 7]\n",
      "List after removing an element 5: [1, 2, 3, 4, 6, 7]\n",
      "List after modifying index 3 to 11: [1, 2, 3, 11, 6, 7]\n",
      "\n",
      "Final list: [1, 2, 3, 11, 6, 7]\n"
     ]
    }
   ],
   "source": [
    "print(\"Initial list:\", my_list)\n",
    "\n",
    "# Adding an element to the list\n",
    "my_list.append(7)  \n",
    "print(\"List after appending an element 7:\", my_list)\n",
    "\n",
    "# Removing an element from the list\n",
    "my_list.remove(5)  \n",
    "print(\"List after removing an element 5:\", my_list)\n",
    "\n",
    "# Modifying an element in the list\n",
    "my_list[3] = 11    \n",
    "print(\"List after modifying index 3 to 11:\", my_list)\n",
    "\n",
    "print(\"\\nFinal list:\", my_list)"
   ]
  },
  {
   "cell_type": "code",
   "execution_count": 62,
   "id": "8639240e-c1b1-413c-92dd-2c2a0fabf909",
   "metadata": {},
   "outputs": [],
   "source": [
    "# creating a dictionary \n",
    "my_dict = {'a': 1, 'b': 2, 'c': 3}"
   ]
  },
  {
   "cell_type": "code",
   "execution_count": 63,
   "id": "c3284cdf-3755-4897-9ec9-502db6b08433",
   "metadata": {},
   "outputs": [
    {
     "name": "stdout",
     "output_type": "stream",
     "text": [
      "Initial dictionary: {'a': 1, 'b': 2, 'c': 3}\n",
      "Dictionary after adding key 'd': {'a': 1, 'b': 2, 'c': 3, 'd': 4}\n",
      "Dictionary after removing key 'b': {'a': 1, 'c': 3, 'd': 4}\n",
      "Dictionary after modifying key 'a': {'a': 7, 'c': 3, 'd': 4}\n",
      "\n",
      "Final dictionary: {'a': 7, 'c': 3, 'd': 4}\n"
     ]
    }
   ],
   "source": [
    "print(\"Initial dictionary:\", my_dict)\n",
    "\n",
    "# Adding a new key-value pair\n",
    "my_dict['d'] = 4   \n",
    "print(\"Dictionary after adding key 'd':\", my_dict)\n",
    "\n",
    "# Removing a key-value pair\n",
    "del my_dict['b']   \n",
    "print(\"Dictionary after removing key 'b':\", my_dict)\n",
    "\n",
    "# Modifying an existing key-value pair\n",
    "my_dict['a'] = 7 \n",
    "print(\"Dictionary after modifying key 'a':\", my_dict)\n",
    "\n",
    "print(\"\\nFinal dictionary:\", my_dict)"
   ]
  },
  {
   "cell_type": "code",
   "execution_count": 60,
   "id": "923e7a0b-d4bf-41e1-ab5d-eef19dfbbc78",
   "metadata": {},
   "outputs": [],
   "source": [
    "# creating a set\n",
    "my_set = {1, 2, 3, 4, 5}"
   ]
  },
  {
   "cell_type": "code",
   "execution_count": 61,
   "id": "47155d2c-940f-4072-bd9d-aeed2a56f262",
   "metadata": {},
   "outputs": [
    {
     "name": "stdout",
     "output_type": "stream",
     "text": [
      "Initial set: {1, 2, 3, 4, 5}\n",
      "Set after adding an element 6: {1, 2, 3, 4, 5, 6}\n",
      "Set after removing an element 2: {1, 3, 4, 5, 6}\n",
      "Set after modifying elements: {1, 4, 5, 6, 30}\n",
      "\n",
      "Final set: {1, 4, 5, 6, 30}\n"
     ]
    }
   ],
   "source": [
    "print(\"Initial set:\", my_set)\n",
    "\n",
    "# Adding an element to the set\n",
    "my_set.add(6)      \n",
    "print(\"Set after adding an element 6:\", my_set)\n",
    "\n",
    "# Removing an element from the set\n",
    "my_set.remove(2)  \n",
    "print(\"Set after removing an element 2:\", my_set)\n",
    "\n",
    "# Modifying elements in set is not directly possible since sets are unordered,\n",
    "# but we can remove an element and add new one\n",
    "\n",
    "# remove an element\n",
    "my_set.discard(3)\n",
    "# add a new element\n",
    "my_set.add(30)\n",
    "print(\"Set after modifying elements:\",my_set)\n",
    "\n",
    "print(\"\\nFinal set:\", my_set)"
   ]
  }
 ],
 "metadata": {
  "kernelspec": {
   "display_name": "Python 3 (ipykernel)",
   "language": "python",
   "name": "python3"
  },
  "language_info": {
   "codemirror_mode": {
    "name": "ipython",
    "version": 3
   },
   "file_extension": ".py",
   "mimetype": "text/x-python",
   "name": "python",
   "nbconvert_exporter": "python",
   "pygments_lexer": "ipython3",
   "version": "3.11.4"
  }
 },
 "nbformat": 4,
 "nbformat_minor": 5
}
